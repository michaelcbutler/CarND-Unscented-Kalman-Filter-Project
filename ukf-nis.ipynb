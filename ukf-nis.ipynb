{
 "cells": [
  {
   "cell_type": "code",
   "execution_count": null,
   "metadata": {},
   "outputs": [],
   "source": [
    "import plotly.plotly as py\n",
    "from plotly.graph_objs import *\n",
    "import pandas as pd\n",
    "import math\n",
    "\n",
    "my_cols=['c1','c2']\n",
    "with open('radar_nis.txt') as f1:\n",
    "    radar_nis_output = pd.read_table(f1, sep='\\t', header=None, names=my_cols, lineterminator='\\n')\n",
    "    \n",
    "radar_nis_output[0:10]"
   ]
  },
  {
   "cell_type": "code",
   "execution_count": null,
   "metadata": {},
   "outputs": [],
   "source": [
    "with open('lidar_nis.txt') as f2:\n",
    "    lidar_nis_output = pd.read_table(f2, sep='\\t', header=None, names=my_cols, lineterminator='\\n')\n",
    "    \n",
    "lidar_nis_output[0:10]"
   ]
  },
  {
   "cell_type": "code",
   "execution_count": null,
   "metadata": {},
   "outputs": [],
   "source": [
    "import plotly.offline as py\n",
    "from plotly.graph_objs import *\n",
    "\n",
    "radar_nis_output = radar_nis_output[2:]\n",
    "lidar_nis_output = lidar_nis_output[1:]\n",
    "\n",
    "\n",
    "\n",
    "#nis\n",
    "radar_nis = Scatter(\n",
    "    x=radar_nis_output['c1'],\n",
    "    y=radar_nis_output['c2'],\n",
    "    name = 'radar NIS'\n",
    ")\n",
    "lidar_nis = Scatter(\n",
    "    x=lidar_nis_output['c1'],\n",
    "    y=lidar_nis_output['c2'],\n",
    "    name = 'lidar NIS'\n",
    ")\n",
    "radar_threshold = Scatter(\n",
    "    x=[0, 25],\n",
    "    y=[7.815, 7.815],\n",
    "    mode = 'lines',\n",
    "    name = 'Chi^2.050'\n",
    ")\n",
    "lidar_threshold = Scatter(\n",
    "    x=[0, 25],\n",
    "    y=[5.991, 5.991],\n",
    "    mode = 'lines',\n",
    "    name = 'Chi^2.050'\n",
    ")\n"
   ]
  },
  {
   "cell_type": "code",
   "execution_count": null,
   "metadata": {},
   "outputs": [],
   "source": [
    "import plotly.plotly as py\n",
    "from plotly.graph_objs import *\n",
    "\n",
    "data = Data([radar_nis, radar_threshold])\n",
    "\n",
    "py.iplot(data, filename = 'radar-nis')"
   ]
  },
  {
   "cell_type": "code",
   "execution_count": null,
   "metadata": {},
   "outputs": [],
   "source": [
    "import plotly.plotly as py\n",
    "from plotly.graph_objs import *\n",
    "\n",
    "data = Data([lidar_nis, lidar_threshold])\n",
    "\n",
    "py.iplot(data, filename = 'lidar-nis')"
   ]
  },
  {
   "cell_type": "code",
   "execution_count": null,
   "metadata": {},
   "outputs": [],
   "source": []
  }
 ],
 "metadata": {
  "kernelspec": {
   "display_name": "Python 3",
   "language": "python",
   "name": "python3"
  },
  "language_info": {
   "codemirror_mode": {
    "name": "ipython",
    "version": 3
   },
   "file_extension": ".py",
   "mimetype": "text/x-python",
   "name": "python",
   "nbconvert_exporter": "python",
   "pygments_lexer": "ipython3",
   "version": "3.5.2"
  },
  "widgets": {
   "state": {},
   "version": "1.1.2"
  }
 },
 "nbformat": 4,
 "nbformat_minor": 2
}
